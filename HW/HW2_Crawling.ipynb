{
  "nbformat": 4,
  "nbformat_minor": 0,
  "metadata": {
    "colab": {
      "name": "HW2_Crawling.ipynb",
      "private_outputs": true,
      "provenance": [],
      "authorship_tag": "ABX9TyMG9S0ZrOlcuAgpBs9cFXnL",
      "include_colab_link": true
    },
    "kernelspec": {
      "name": "python3",
      "display_name": "Python 3"
    },
    "language_info": {
      "name": "python"
    }
  },
  "cells": [
    {
      "cell_type": "markdown",
      "metadata": {
        "id": "view-in-github",
        "colab_type": "text"
      },
      "source": [
        "<a href=\"https://colab.research.google.com/github/SYEON9/DBArchitecture/blob/master/HW/HW2_Crawling.ipynb\" target=\"_parent\"><img src=\"https://colab.research.google.com/assets/colab-badge.svg\" alt=\"Open In Colab\"/></a>"
      ]
    },
    {
      "cell_type": "code",
      "execution_count": null,
      "metadata": {
        "id": "zJQ2ViS1G4gv"
      },
      "outputs": [],
      "source": [
        "import requests\n",
        "from bs4 import BeautifulSoup\n",
        "\n",
        "#네이버 영화 리뷰 크롤링을 진행해보자\n",
        "#서버 연결하기\n",
        "URL = 'https://movie.naver.com/movie/point/af/list.naver?&page=1'\n",
        "response = requests.get(URL)\n",
        "print(response)\n",
        "print(response.encoding)"
      ]
    },
    {
      "cell_type": "code",
      "source": [
        "#Text 가져오기\n",
        "soup = BeautifulSoup(\n",
        "    response.text,\n",
        "    'html.parser'\n",
        ")\n",
        "\n",
        "#print(soup)                     #제대로 나오는 것을 확인!"
      ],
      "metadata": {
        "id": "s59M4B1LEBBj"
      },
      "execution_count": null,
      "outputs": []
    },
    {
      "cell_type": "code",
      "source": [
        "#해당부분 가져오기\n",
        "total_list = soup.find(name = 'tbody')\n",
        "#print(total_list)\n",
        "for title in total_list.find_all(name = 'td', attrs = {'class':'title'}):\n",
        "    title = title.find('div')\n",
        "    sentence = title.get_text(strip = True, separator = \",\")\n",
        "    #a = title[0].get_text(strip = True, separator = \",\")\n",
        "    #score = title.find('em').string\n",
        "    print(sentence)\n",
        "    #print(a)\n",
        "    #print(score)\n",
        "    #print(movie,\",\",sentence,\",\",score)"
      ],
      "metadata": {
        "id": "wE14Lpo1ERAT"
      },
      "execution_count": null,
      "outputs": []
    },
    {
      "cell_type": "code",
      "source": [
        ""
      ],
      "metadata": {
        "id": "_BHql3cSNjGp"
      },
      "execution_count": null,
      "outputs": []
    },
    {
      "cell_type": "code",
      "source": [
        "#이게 진짜다\n",
        "#지우면 안됨.\n",
        "\n",
        "#좋아. 이제 데이터 1000개 정도를 가져와보자. \n",
        "#페이지를 100번정도 넘기면 될 것 같아!!\n",
        "import time\n",
        "import csv\n",
        "import chardet\n",
        "\n",
        "text = []\n",
        "\n",
        "#크롤링하면서 바로 csv파일로 만들자.\n",
        "#유니코드 변환\n",
        "#sentence 비어있는거랑 신고, star없애기\n",
        "with open('samples.csv','w') as fd:\n",
        "    writer = csv.writer(fd,\n",
        "                        delimiter = ',')\n",
        "    writer.writerow(['movie','star','score','sentence','declartion'])\n",
        "    \n",
        "    for i in range(100):\n",
        "\n",
        "        time.sleep(0.5)\n",
        "\n",
        "        URL = f'https://movie.naver.com/movie/point/af/list.naver?&page={i+1}'\n",
        "        response = requests.get(URL)\n",
        "    \n",
        "    \n",
        "        #Text 가져오기\n",
        "        soup = BeautifulSoup(\n",
        "            response.text,\n",
        "            'html.parser',\n",
        "            from_encoding = 'utf-8'\n",
        "        )\n",
        "\n",
        "        #해당부분 가져오기\n",
        "        total_list = soup.find(name = 'tbody')\n",
        "        #print(total_list)\n",
        "        print(i)\n",
        "        for title in total_list.find_all(name = 'td', attrs = {'class':'title'}):\n",
        "            sentence = title.get_text(strip = True, separator = \"(^)\")\n",
        "            print(type(sentence))\n",
        "            text = list(sentence.split('(^)'))\n",
        "            print(text)\n",
        "\n",
        "            #sentence.encode('euc-kr')\n",
        "            writer.writerow(text)\n",
        "            #print(sentence)\n",
        "            \n",
        "    \n",
        "    \n",
        "\n"
      ],
      "metadata": {
        "id": "4pb-O0qSFBTU"
      },
      "execution_count": null,
      "outputs": []
    },
    {
      "cell_type": "code",
      "source": [
        ""
      ],
      "metadata": {
        "id": "AOP93C3ZthLO"
      },
      "execution_count": null,
      "outputs": []
    },
    {
      "cell_type": "code",
      "source": [
        ""
      ],
      "metadata": {
        "id": "pq_QzaIlQ2FF"
      },
      "execution_count": null,
      "outputs": []
    },
    {
      "cell_type": "code",
      "source": [
        "#만들어진 csv파일을 불러와서 전처리를 진행해보자.\n",
        "\n",
        "#데이터 불러오기\n",
        "import pandas as pd\n",
        "csv_test = pd.read_csv('samples.csv')"
      ],
      "metadata": {
        "id": "qKDwTTCxrkvn"
      },
      "execution_count": null,
      "outputs": []
    },
    {
      "cell_type": "code",
      "source": [
        "csv_test.shape                           #데이터 확인"
      ],
      "metadata": {
        "id": "jy-c9gKkr4XB"
      },
      "execution_count": null,
      "outputs": []
    },
    {
      "cell_type": "code",
      "source": [
        "csv_test.head()"
      ],
      "metadata": {
        "id": "jTs-YKCKr5uX"
      },
      "execution_count": null,
      "outputs": []
    },
    {
      "cell_type": "code",
      "source": [
        "#신고되어 삭제된 한줄평이나 한줄평이 없는 경우는 제외하자. \n",
        "edit_csv_test = csv_test\n",
        "edit_csv_test.info()           #데이터 정보 확인. "
      ],
      "metadata": {
        "id": "CyBy2lSiNhRy"
      },
      "execution_count": null,
      "outputs": []
    },
    {
      "cell_type": "code",
      "source": [
        "edit_csv_test.isnull().sum()    #declartion에 72개의 None값이 존재한다. "
      ],
      "metadata": {
        "id": "Pt8505Q7Pc1F"
      },
      "execution_count": null,
      "outputs": []
    },
    {
      "cell_type": "code",
      "source": [
        "#결측값이 있다는 것은 sentence값이 없어 \"신고\"가 sentence자리에 들어갔다는 의미이므로 해당 열은 삭제한다.\n",
        "edit_csv_test = edit_csv_test.dropna()       #결측치 제거"
      ],
      "metadata": {
        "id": "93Q3XUIkP8zG"
      },
      "execution_count": null,
      "outputs": []
    },
    {
      "cell_type": "code",
      "source": [
        "edit_csv_test.shape                          #결측치 제거 확인"
      ],
      "metadata": {
        "id": "92RyHrWaQT0t"
      },
      "execution_count": null,
      "outputs": []
    },
    {
      "cell_type": "code",
      "source": [
        "#이제 필요없는 열을 제거해보자. \n",
        "edit_csv_test = edit_csv_test.drop(['star','declartion'], axis = 1)"
      ],
      "metadata": {
        "id": "3foiNH61QaS2"
      },
      "execution_count": null,
      "outputs": []
    },
    {
      "cell_type": "code",
      "source": [
        "edit_csv_test.shape                          #제거 확인"
      ],
      "metadata": {
        "id": "ejcrWc0BRlnh"
      },
      "execution_count": null,
      "outputs": []
    },
    {
      "cell_type": "code",
      "source": [
        "edit_csv_test"
      ],
      "metadata": {
        "id": "I3tEJULkTCyE"
      },
      "execution_count": null,
      "outputs": []
    },
    {
      "cell_type": "code",
      "source": [
        ""
      ],
      "metadata": {
        "id": "kQFgu9TrR2WY"
      },
      "execution_count": null,
      "outputs": []
    },
    {
      "cell_type": "code",
      "source": [
        "#데이터셋 완성!!\n",
        "#이제 csv파일로 다시 저장하자!\n",
        "edit_csv_test.to_csv(\"edit_samples.csv\", encoding = 'EUC-KR')"
      ],
      "metadata": {
        "id": "mqwIAcTNTNkr"
      },
      "execution_count": null,
      "outputs": []
    },
    {
      "cell_type": "code",
      "source": [
        ""
      ],
      "metadata": {
        "id": "To7PcwXrUPzp"
      },
      "execution_count": null,
      "outputs": []
    }
  ]
}